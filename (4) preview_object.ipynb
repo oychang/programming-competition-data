{
 "cells": [
  {
   "cell_type": "code",
   "execution_count": 1,
   "metadata": {
    "collapsed": true,
    "deletable": true,
    "editable": true
   },
   "outputs": [],
   "source": [
    "import json"
   ]
  },
  {
   "cell_type": "code",
   "execution_count": 2,
   "metadata": {
    "collapsed": true,
    "deletable": true,
    "editable": true
   },
   "outputs": [],
   "source": [
    "data = json.load(open('./problems_with_answers.json'))"
   ]
  },
  {
   "cell_type": "code",
   "execution_count": 3,
   "metadata": {
    "collapsed": true,
    "deletable": true,
    "editable": true
   },
   "outputs": [],
   "source": [
    "from pprint import pprint"
   ]
  },
  {
   "cell_type": "code",
   "execution_count": 4,
   "metadata": {
    "collapsed": false,
    "deletable": true,
    "editable": true
   },
   "outputs": [
    {
     "name": "stdout",
     "output_type": "stream",
     "text": [
      "{'difficulty': 375.0,\n",
      " 'examples': [{'input': 'countHi2(\"ahixhi\")', 'output': '1'},\n",
      "              {'input': 'countHi2(\"ahibhi\")', 'output': '2'},\n",
      "              {'input': 'countHi2(\"xhixhi\")', 'output': '0'}],\n",
      " 'section': 'Recursion-1',\n",
      " 'signature': 'public int countHi2(String str)',\n",
      " 'solution': ['public int countHi2(String str){\\n'\n",
      "              'if(str.length() <= 3){\\n'\n",
      "              'if(str.contains(\"xhi\"))\\n'\n",
      "              'return 0;\\n'\n",
      "              'if(str.contains(\"hi\"))\\n'\n",
      "              'return 1;\\n'\n",
      "              'return 0;\\n'\n",
      "              '}\\n'\n",
      "              'if(str.startsWith(\"xhi\"))\\n'\n",
      "              'return countHi2(str.substring(3));\\n'\n",
      "              'if(str.startsWith(\"hi\"))\\n'\n",
      "              'return 1+countHi2(str.substring(2));\\n'\n",
      "              '\\n'\n",
      "              'return countHi2(str.substring(1));\\n'\n",
      "              '}',\n",
      "              '/* Given a string, compute recursively the number of times '\n",
      "              'lowercase \"hi\" \\n'\n",
      "              ' * appears in the string, however do not count \"hi\" that have '\n",
      "              \"an 'x' \\n\"\n",
      "              ' * immedately before them.\\n'\n",
      "              ' */\\n'\n",
      "              'public int countHi2(String str) {\\n'\n",
      "              '    if(str.length() <= 1)\\n'\n",
      "              '        return 0;\\n'\n",
      "              '          \\n'\n",
      "              '    if(str.length() > 2 && str.substring(0, 3).equals(\"xhi\"))\\n'\n",
      "              '        return countHi2(str.substring(3));\\n'\n",
      "              '                    \\n'\n",
      "              '    if(str.substring(0, 2).equals(\"hi\"))\\n'\n",
      "              '        return 1 + countHi2(str.substring(2));\\n'\n",
      "              '                            \\n'\n",
      "              '    return countHi2(str.substring(1));\\n'\n",
      "              '}\\n'],\n",
      " 'summary': 'Given a string, compute recursively the number of times lowercase '\n",
      "            '\"hi\" appears in the string, however do not count \"hi\" that have '\n",
      "            \"an 'x' immedately before them.\",\n",
      " 'title': 'countHi2',\n",
      " 'url': '/prob/p143900'}\n"
     ]
    }
   ],
   "source": [
    "for obj in data:\n",
    "    if 'solution' in obj:\n",
    "        pprint(obj)\n",
    "        break"
   ]
  }
 ],
 "metadata": {
  "kernelspec": {
   "display_name": "Python 3",
   "language": "python",
   "name": "python3"
  },
  "language_info": {
   "codemirror_mode": {
    "name": "ipython",
    "version": 3
   },
   "file_extension": ".py",
   "mimetype": "text/x-python",
   "name": "python",
   "nbconvert_exporter": "python",
   "pygments_lexer": "ipython3",
   "version": "3.5.2"
  },
  "toc": {
   "nav_menu": {
    "height": "12px",
    "width": "252px"
   },
   "navigate_menu": true,
   "number_sections": true,
   "sideBar": true,
   "threshold": 4,
   "toc_cell": false,
   "toc_section_display": "block",
   "toc_window_display": false
  }
 },
 "nbformat": 4,
 "nbformat_minor": 2
}
