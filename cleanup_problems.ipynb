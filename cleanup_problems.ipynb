{
 "cells": [
  {
   "cell_type": "code",
   "execution_count": 1,
   "metadata": {
    "collapsed": true
   },
   "outputs": [],
   "source": [
    "import json\n",
    "from bs4 import BeautifulSoup"
   ]
  },
  {
   "cell_type": "code",
   "execution_count": 2,
   "metadata": {
    "collapsed": true
   },
   "outputs": [],
   "source": [
    "raw_data = json.load(open('./problems.json'))"
   ]
  },
  {
   "cell_type": "code",
   "execution_count": 3,
   "metadata": {
    "collapsed": true
   },
   "outputs": [],
   "source": [
    "def parse_example(s):\n",
    "    if s is None:\n",
    "        return\n",
    "    DELIMITER = ' → '\n",
    "    i, o = s.split(DELIMITER)\n",
    "    return {\n",
    "        'input': i,\n",
    "        'output': o,\n",
    "    }"
   ]
  },
  {
   "cell_type": "code",
   "execution_count": 7,
   "metadata": {
    "collapsed": false
   },
   "outputs": [],
   "source": [
    "cleaned_data = []\n",
    "for problem, metadata in raw_data.items():\n",
    "    problem_url = problem\n",
    "    title = metadata['title']\n",
    "    section = metadata['section']\n",
    "    \n",
    "    soup = BeautifulSoup(metadata['raw'], 'html5lib')\n",
    "    \n",
    "    difficulty = soup.find_all('p')[-3]\n",
    "    difficulty = difficulty.text.split(': ')[1]\n",
    "    \n",
    "    soup = soup.find_all('td')[-2]\n",
    "    soup.div.unwrap()\n",
    "    \n",
    "    \n",
    "    summary = soup.contents[0]\n",
    "    \n",
    "    examples = []\n",
    "    for i, el in enumerate(soup.contents[1:]):\n",
    "        if getattr(el, 'is_empty_element', False):\n",
    "            try:\n",
    "                res = parse_example(soup.contents[i+1+1])\n",
    "                if res:\n",
    "                    examples.append(res)\n",
    "            except TypeError:\n",
    "                pass # only 1 instance...funky edge case\n",
    "            \n",
    "    # TODO: check for embedded solution\n",
    "    \n",
    "    signature = soup.find(id='ace_div').text.split('{')[0]\n",
    "    \n",
    "    info = {\n",
    "        'url': problem_url,\n",
    "        'section': section,\n",
    "        'title': title,\n",
    "        'difficulty': difficulty,\n",
    "        'summary': summary,\n",
    "        'signature': signature,\n",
    "        'examples': examples,\n",
    "    }\n",
    "    cleaned_data.append(info)"
   ]
  },
  {
   "cell_type": "code",
   "execution_count": 9,
   "metadata": {
    "collapsed": false
   },
   "outputs": [],
   "source": [
    "json.dump(cleaned_data, open('./problems_cleaned_no_answers.json', 'w'))"
   ]
  }
 ],
 "metadata": {
  "kernelspec": {
   "display_name": "Python 3",
   "language": "python",
   "name": "python3"
  },
  "language_info": {
   "codemirror_mode": {
    "name": "ipython",
    "version": 3
   },
   "file_extension": ".py",
   "mimetype": "text/x-python",
   "name": "python",
   "nbconvert_exporter": "python",
   "pygments_lexer": "ipython3",
   "version": "3.5.2"
  },
  "toc": {
   "nav_menu": {
    "height": "12px",
    "width": "252px"
   },
   "navigate_menu": true,
   "number_sections": true,
   "sideBar": true,
   "threshold": 4,
   "toc_cell": false,
   "toc_section_display": "block",
   "toc_window_display": false
  }
 },
 "nbformat": 4,
 "nbformat_minor": 2
}
