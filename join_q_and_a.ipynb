{
 "cells": [
  {
   "cell_type": "code",
   "execution_count": 1,
   "metadata": {
    "collapsed": true
   },
   "outputs": [],
   "source": [
    "import json"
   ]
  },
  {
   "cell_type": "code",
   "execution_count": 8,
   "metadata": {
    "collapsed": true
   },
   "outputs": [],
   "source": [
    "problems = json.load(open('./problems_cleaned_no_answers.json'))"
   ]
  },
  {
   "cell_type": "code",
   "execution_count": 3,
   "metadata": {
    "collapsed": true
   },
   "outputs": [],
   "source": [
    "def collect_signatures(lines):\n",
    "    return [line.strip() for line in lines if line.startswith('public')]"
   ]
  },
  {
   "cell_type": "code",
   "execution_count": 4,
   "metadata": {
    "collapsed": true
   },
   "outputs": [],
   "source": [
    "from glob import glob"
   ]
  },
  {
   "cell_type": "code",
   "execution_count": 6,
   "metadata": {
    "collapsed": false
   },
   "outputs": [
    {
     "data": {
      "text/plain": [
       "254"
      ]
     },
     "execution_count": 6,
     "metadata": {},
     "output_type": "execute_result"
    }
   ],
   "source": [
    "signatures = []\n",
    "for fn in glob('./solutions/Java/*.java'):\n",
    "    signatures += collect_signatures([line for line in open(fn)])\n",
    "len(signatures)"
   ]
  },
  {
   "cell_type": "code",
   "execution_count": 12,
   "metadata": {
    "collapsed": false
   },
   "outputs": [
    {
     "data": {
      "text/plain": [
       "246"
      ]
     },
     "execution_count": 12,
     "metadata": {},
     "output_type": "execute_result"
    }
   ],
   "source": [
    "sum(1 for prob in problems if prob['signature'].strip() in signatures)"
   ]
  },
  {
   "cell_type": "code",
   "execution_count": 22,
   "metadata": {
    "collapsed": true
   },
   "outputs": [],
   "source": [
    "def map_signatures(filenames):\n",
    "    ret = {}\n",
    "    \n",
    "    last_signature = None\n",
    "    for fn in filenames:\n",
    "        print(fn)\n",
    "        with open(fn) as f:\n",
    "            for line in f:\n",
    "                if line.lstrip().startswith('public'):\n",
    "                    last_signature = line.strip()\n",
    "                elif line.startswith('{'):\n",
    "                    ret[last_signature] = []\n",
    "                elif line.startswith('}'):\n",
    "                    last_signature = None\n",
    "                elif last_signature is not None:\n",
    "                    ret[last_signature].append(line.strip())\n",
    "    return ret"
   ]
  },
  {
   "cell_type": "code",
   "execution_count": 23,
   "metadata": {
    "collapsed": false
   },
   "outputs": [
    {
     "name": "stdout",
     "output_type": "stream",
     "text": [
      "./solutions/Java/Recursion-1.java\n",
      "./solutions/Java/Array-3.java\n",
      "./solutions/Java/Recursion-2.java\n",
      "./solutions/Java/String-3.java\n",
      "./solutions/Java/Array-2.java\n",
      "./solutions/Java/String-1.java\n",
      "./solutions/Java/Logic-1.java\n",
      "./solutions/Java/Warmup-2.java\n",
      "./solutions/Java/Logic-2.java\n",
      "./solutions/Java/Warmup-1.java\n",
      "./solutions/Java/Array-1.java\n",
      "./solutions/Java/String-2.java\n"
     ]
    }
   ],
   "source": [
    "code = map_signatures(glob('./solutions/Java/*.java'))"
   ]
  },
  {
   "cell_type": "code",
   "execution_count": 26,
   "metadata": {
    "collapsed": false
   },
   "outputs": [
    {
     "name": "stdout",
     "output_type": "stream",
     "text": [
      "246\n"
     ]
    }
   ],
   "source": [
    "added = 0\n",
    "for problem in problems:\n",
    "    sig = problem['signature'].strip()\n",
    "    if sig in code.keys():\n",
    "        problem['solution'] = code[sig]\n",
    "        added += 1\n",
    "print(added)"
   ]
  },
  {
   "cell_type": "code",
   "execution_count": 27,
   "metadata": {
    "collapsed": true
   },
   "outputs": [],
   "source": [
    "json.dump(problems, open('./problems_with_partial_answers.json', 'w'))"
   ]
  }
 ],
 "metadata": {
  "kernelspec": {
   "display_name": "Python 3",
   "language": "python",
   "name": "python3"
  },
  "language_info": {
   "codemirror_mode": {
    "name": "ipython",
    "version": 3
   },
   "file_extension": ".py",
   "mimetype": "text/x-python",
   "name": "python",
   "nbconvert_exporter": "python",
   "pygments_lexer": "ipython3",
   "version": "3.5.2"
  },
  "toc": {
   "nav_menu": {
    "height": "12px",
    "width": "252px"
   },
   "navigate_menu": true,
   "number_sections": true,
   "sideBar": true,
   "threshold": 4,
   "toc_cell": false,
   "toc_section_display": "block",
   "toc_window_display": false
  }
 },
 "nbformat": 4,
 "nbformat_minor": 2
}
