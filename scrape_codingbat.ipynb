{
 "cells": [
  {
   "cell_type": "code",
   "execution_count": 1,
   "metadata": {
    "collapsed": true,
    "deletable": true,
    "editable": true
   },
   "outputs": [],
   "source": [
    "import time\n",
    "\n",
    "import requests\n",
    "from bs4 import BeautifulSoup"
   ]
  },
  {
   "cell_type": "code",
   "execution_count": 2,
   "metadata": {
    "collapsed": true,
    "deletable": true,
    "editable": true
   },
   "outputs": [],
   "source": [
    "BASE_URL = 'http://codingbat.com'"
   ]
  },
  {
   "cell_type": "code",
   "execution_count": 3,
   "metadata": {
    "collapsed": true,
    "deletable": true,
    "editable": true
   },
   "outputs": [],
   "source": [
    "def get_matching_urls(page_url, url_prefix):\n",
    "    resp = requests.get(page_url)\n",
    "    if resp.status_code != 200:\n",
    "        print(resp.status_code)\n",
    "        print('bad get')\n",
    "        return\n",
    "    \n",
    "    soup = BeautifulSoup(resp.content, 'html.parser')\n",
    "    # use two lists here to allow for duplicates\n",
    "    ret_text, ret_url = [], []\n",
    "    for anchor_el in soup.find_all('a'):\n",
    "        if anchor_el['href'].startswith(url_prefix):\n",
    "            href = anchor_el['href']\n",
    "            text = anchor_el.text\n",
    "            \n",
    "            ret_text.append(text)\n",
    "            ret_url.append(href)\n",
    "    return ret_text, ret_url"
   ]
  },
  {
   "cell_type": "code",
   "execution_count": 4,
   "metadata": {
    "collapsed": false,
    "deletable": true,
    "editable": true
   },
   "outputs": [],
   "source": [
    "sections = get_matching_urls(BASE_URL + '/java', '/java/')"
   ]
  },
  {
   "cell_type": "code",
   "execution_count": 5,
   "metadata": {
    "collapsed": false,
    "deletable": true,
    "editable": true
   },
   "outputs": [
    {
     "name": "stdout",
     "output_type": "stream",
     "text": [
      "/java/Warmup-1\n",
      "/java/Warmup-2\n",
      "/java/String-1\n",
      "/java/Array-1\n",
      "/java/Logic-1\n",
      "/java/Logic-2\n",
      "/java/String-2\n",
      "/java/String-3\n",
      "/java/Array-2\n",
      "/java/Array-3\n",
      "/java/AP-1\n",
      "/java/Recursion-1\n",
      "/java/Recursion-2\n",
      "/java/Map-1\n",
      "/java/Map-2\n",
      "/java/Functional-1\n",
      "/java/Functional-2\n"
     ]
    }
   ],
   "source": [
    "problem_data = []\n",
    "for section in sections[1]:\n",
    "    print(section)\n",
    "    res = get_matching_urls(BASE_URL + section, '/prob/')\n",
    "    problem_data.append(res)\n",
    "    \n",
    "    time.sleep(10)"
   ]
  },
  {
   "cell_type": "code",
   "execution_count": 6,
   "metadata": {
    "collapsed": false,
    "deletable": true,
    "editable": true
   },
   "outputs": [
    {
     "data": {
      "text/plain": [
       "(317, 317)"
      ]
     },
     "execution_count": 6,
     "metadata": {},
     "output_type": "execute_result"
    }
   ],
   "source": [
    "problem_urls = [url for grouping in problem_data for url in grouping[1]]\n",
    "len(problem_urls), len(set(problem_urls))"
   ]
  },
  {
   "cell_type": "code",
   "execution_count": 7,
   "metadata": {
    "collapsed": false,
    "deletable": true,
    "editable": true
   },
   "outputs": [],
   "source": [
    "problems = {}\n",
    "for i, subsection in enumerate(sections[0]):\n",
    "    for title, url in zip(problem_data[i][0], problem_data[i][1]):\n",
    "        problems[url] = {\n",
    "            'section': subsection,\n",
    "            'title': title,\n",
    "        }"
   ]
  },
  {
   "cell_type": "code",
   "execution_count": 8,
   "metadata": {
    "collapsed": true,
    "deletable": true,
    "editable": true
   },
   "outputs": [],
   "source": [
    "def get_problem(url):\n",
    "    body = requests.get(url)\n",
    "    if body.status_code != 200:\n",
    "        print(body.status_code)\n",
    "        return\n",
    "    content = body.text.replace('<br>', '<br/>')\n",
    "    return content"
   ]
  },
  {
   "cell_type": "code",
   "execution_count": 9,
   "metadata": {
    "collapsed": false,
    "deletable": true,
    "editable": true,
    "scrolled": true
   },
   "outputs": [],
   "source": [
    "import datetime"
   ]
  },
  {
   "cell_type": "code",
   "execution_count": 11,
   "metadata": {
    "collapsed": false,
    "deletable": true,
    "editable": true
   },
   "outputs": [
    {
     "name": "stdout",
     "output_type": "stream",
     "text": [
      "2017-03-30 16:43:57\n",
      "/prob/p136351\n",
      "............../prob/p159531\n",
      "../prob/p139411\n",
      "............................/prob/p163411\n",
      ".............../prob/p191991\n",
      "......../prob/p143461\n",
      "./prob/p128461\n",
      "............/prob/p105771\n",
      "/prob/p136041\n",
      "...../prob/p194491\n",
      "....../prob/p170371\n",
      "/prob/p115011\n",
      "..................../prob/p194781\n",
      "........../prob/p177181\n",
      "....../prob/p196441\n",
      "..................../prob/p172021\n",
      "./prob/p105031\n",
      "/prob/p110141\n",
      ".................................../prob/p130781\n",
      "............../prob/p165701\n",
      "........./prob/p105671\n",
      "..../prob/p183071\n",
      "/prob/p184031\n",
      "....../prob/p170181\n",
      "./prob/p113261\n",
      "..../prob/p199171\n",
      "............../prob/p170221\n",
      ".........../prob/p141061\n",
      "...../prob/p167011\n",
      "..../prob/p165941\n",
      "......................../prob/p186031\n",
      ".......done\n",
      "2017-03-30 17:10:57\n"
     ]
    }
   ],
   "source": [
    "print(datetime.datetime.now().strftime('%Y-%m-%d %H:%M:%S'))\n",
    "for problem_url, v in problems.items():\n",
    "    if problem_url.endswith('1'):\n",
    "        print(problem_url)\n",
    "    else:\n",
    "        print('.', end='')\n",
    "    res = get_problem(BASE_URL + problem_url)\n",
    "    v['raw'] = res\n",
    "    time.sleep(5)\n",
    "print('done')\n",
    "print(datetime.datetime.now().strftime('%Y-%m-%d %H:%M:%S'))"
   ]
  },
  {
   "cell_type": "code",
   "execution_count": 13,
   "metadata": {
    "collapsed": false
   },
   "outputs": [],
   "source": [
    "import json"
   ]
  },
  {
   "cell_type": "code",
   "execution_count": 14,
   "metadata": {
    "collapsed": true
   },
   "outputs": [],
   "source": [
    "with open('./problems.json', 'w') as f:\n",
    "    json.dump(problems, f)"
   ]
  }
 ],
 "metadata": {
  "kernelspec": {
   "display_name": "Python 3",
   "language": "python",
   "name": "python3"
  },
  "language_info": {
   "codemirror_mode": {
    "name": "ipython",
    "version": 3
   },
   "file_extension": ".py",
   "mimetype": "text/x-python",
   "name": "python",
   "nbconvert_exporter": "python",
   "pygments_lexer": "ipython3",
   "version": "3.5.2"
  },
  "toc": {
   "nav_menu": {
    "height": "11px",
    "width": "251px"
   },
   "navigate_menu": true,
   "number_sections": true,
   "sideBar": true,
   "threshold": 4,
   "toc_cell": false,
   "toc_section_display": "block",
   "toc_window_display": false
  }
 },
 "nbformat": 4,
 "nbformat_minor": 2
}
