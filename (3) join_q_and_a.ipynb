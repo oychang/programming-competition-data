{
 "cells": [
  {
   "cell_type": "code",
   "execution_count": 1,
   "metadata": {
    "collapsed": true,
    "deletable": true,
    "editable": true
   },
   "outputs": [],
   "source": [
    "import json\n",
    "from glob import glob"
   ]
  },
  {
   "cell_type": "code",
   "execution_count": 2,
   "metadata": {
    "collapsed": false,
    "deletable": true,
    "editable": true
   },
   "outputs": [],
   "source": [
    "problems = json.load(open('./problems_with_builtin_answers.json'))"
   ]
  },
  {
   "cell_type": "code",
   "execution_count": 3,
   "metadata": {
    "collapsed": false,
    "deletable": true,
    "editable": true
   },
   "outputs": [
    {
     "name": "stdout",
     "output_type": "stream",
     "text": [
      "47 builtin answers given by website\n",
      "317 questions in total\n"
     ]
    }
   ],
   "source": [
    "print(sum(1 for obj in problems if obj['solution']), 'builtin answers given by website')\n",
    "print(len(problems), 'questions in total')"
   ]
  },
  {
   "cell_type": "code",
   "execution_count": 4,
   "metadata": {
    "collapsed": false,
    "deletable": true,
    "editable": true
   },
   "outputs": [
    {
     "name": "stdout",
     "output_type": "stream",
     "text": [
      "254 total solutions; 252 unique signatures\n",
      "246 solutions with matching signatures\n"
     ]
    }
   ],
   "source": [
    "# inspect ozelentok's answers\n",
    "def collect_signatures(lines):\n",
    "    return [line.strip() for line in lines if line.startswith('public')]\n",
    "signatures = []\n",
    "for fn in glob('./solutions/ozelentok/*.java'):\n",
    "    signatures += collect_signatures([line for line in open(fn)])\n",
    "print(len(signatures), 'total solutions;', len(set(signatures)), 'unique signatures')\n",
    "print(sum(1 for prob in problems if prob['signature'].strip() in signatures), 'solutions with matching signatures')"
   ]
  },
  {
   "cell_type": "code",
   "execution_count": 5,
   "metadata": {
    "collapsed": false,
    "deletable": true,
    "editable": true
   },
   "outputs": [
    {
     "name": "stdout",
     "output_type": "stream",
     "text": [
      "./solutions/ozelentok/Recursion-1.java\n",
      "./solutions/ozelentok/Array-3.java\n",
      "./solutions/ozelentok/Recursion-2.java\n",
      "./solutions/ozelentok/String-3.java\n",
      "./solutions/ozelentok/Array-2.java\n",
      "./solutions/ozelentok/String-1.java\n",
      "./solutions/ozelentok/Logic-1.java\n",
      "./solutions/ozelentok/Warmup-2.java\n",
      "./solutions/ozelentok/Logic-2.java\n",
      "./solutions/ozelentok/Warmup-1.java\n",
      "./solutions/ozelentok/Array-1.java\n",
      "./solutions/ozelentok/String-2.java\n"
     ]
    }
   ],
   "source": [
    "# extract ozelentok's code\n",
    "def map_signatures(filenames):\n",
    "    ret = {}\n",
    "    \n",
    "    last_signature = None\n",
    "    for fn in filenames:\n",
    "        print(fn)\n",
    "        with open(fn) as f:\n",
    "            for line in f:\n",
    "                if line.lstrip().startswith('public'):\n",
    "                    last_signature = line.strip()\n",
    "                    ret[last_signature] = [last_signature + '{']\n",
    "                elif line.startswith('{'):\n",
    "                    # ret[last_signature] = []\n",
    "                    pass\n",
    "                elif line.startswith('}'):\n",
    "                    ret[last_signature].append('}')\n",
    "                    ret[last_signature] = '\\n'.join(ret[last_signature])\n",
    "                    last_signature = None\n",
    "                elif last_signature is not None:\n",
    "                    ret[last_signature].append(line.strip())\n",
    "    return ret\n",
    "oz_code = map_signatures(glob('./solutions/ozelentok/*.java'))"
   ]
  },
  {
   "cell_type": "code",
   "execution_count": 6,
   "metadata": {
    "collapsed": false,
    "deletable": true,
    "editable": true
   },
   "outputs": [
    {
     "name": "stdout",
     "output_type": "stream",
     "text": [
      "280 unique solutions\n"
     ]
    }
   ],
   "source": [
    "# inspect mirandaoi's answers\n",
    "print(len(glob('./solutions/mirandaio/*/*.java')), 'unique solutions')"
   ]
  },
  {
   "cell_type": "code",
   "execution_count": 7,
   "metadata": {
    "collapsed": false,
    "deletable": true,
    "editable": true,
    "scrolled": false
   },
   "outputs": [],
   "source": [
    "# extract mirandoi's code\n",
    "def map_signatures2(filenames):\n",
    "    ret = {}\n",
    "    \n",
    "    for fn in filenames:\n",
    "        category, problem = fn.split('/')[-2:]\n",
    "        problem = problem[:-len('.java')] # strip file extension\n",
    "        key = (category.lower(), problem.lower())\n",
    "        with open(fn) as f:\n",
    "            ret[key] = ''.join(f)   \n",
    "    return ret\n",
    "mi_code = map_signatures2(glob('./solutions/mirandaio/*/*.java'))"
   ]
  },
  {
   "cell_type": "code",
   "execution_count": 8,
   "metadata": {
    "collapsed": false,
    "deletable": true,
    "editable": true
   },
   "outputs": [],
   "source": [
    "# extract sergey's answers\n",
    "def map_signatures3(filenames):\n",
    "    ret = {}\n",
    "    \n",
    "    last_signature = None\n",
    "    for fn in filenames:\n",
    "        with open(fn) as f:\n",
    "            for line in f:\n",
    "                if line.lstrip().startswith('public static'):\n",
    "                    last_signature = line.strip().replace('static ', '')\n",
    "                    ret[last_signature] = [last_signature + '{']\n",
    "                elif line.startswith('    }') and last_signature:\n",
    "                    ret[last_signature].append('}')\n",
    "                    ret[last_signature] = '\\n'.join(ret[last_signature])\n",
    "                    last_signature = None\n",
    "                elif last_signature is not None:\n",
    "                    ret[last_signature].append(line.strip())\n",
    "    return ret\n",
    "sk_code = map_signatures3(glob('./solutions/SergeyKandalintsev/src/*/*.java'))"
   ]
  },
  {
   "cell_type": "code",
   "execution_count": 9,
   "metadata": {
    "collapsed": false,
    "deletable": true,
    "editable": true
   },
   "outputs": [
    {
     "data": {
      "text/plain": [
       "(['public boolean scoresClump( int[] scores )',\n",
       "  'public String without2(String str) {',\n",
       "  'public String startWord(String str, String word) {'],\n",
       " [('warmup-1', 'intmax'),\n",
       "  ('string-1', 'withoutend2'),\n",
       "  ('warmup-1', 'starthi')],\n",
       " ['public int[] fix45(int[] nums)',\n",
       "  'public int maxBlock(String str)',\n",
       "  'public String noX(String str)'])"
      ]
     },
     "execution_count": 9,
     "metadata": {},
     "output_type": "execute_result"
    }
   ],
   "source": [
    "# join answers to the appropriate list\n",
    "list(sk_code.keys())[:3], list(mi_code.keys())[:3], list(oz_code.keys())[:3]"
   ]
  },
  {
   "cell_type": "code",
   "execution_count": 10,
   "metadata": {
    "collapsed": false,
    "deletable": true,
    "editable": true
   },
   "outputs": [],
   "source": [
    "for obj in problems:\n",
    "    sk_key = obj['title'] + '('\n",
    "    if any(sk_key in key for key in sk_code.keys()):\n",
    "        for k, v in sk_code.items():\n",
    "            if sk_key in k:\n",
    "                obj['solution'].append(v)\n",
    "                break\n",
    "    \n",
    "    if obj['signature'] in oz_code:\n",
    "        obj['solution'].append(oz_code[obj['signature']])\n",
    "    \n",
    "    mi_key = (obj['section'].lower(), obj['title'].lower())\n",
    "    if mi_key in mi_code:\n",
    "        obj['solution'].append(mi_code[mi_key])"
   ]
  },
  {
   "cell_type": "code",
   "execution_count": 11,
   "metadata": {
    "collapsed": false,
    "deletable": true,
    "editable": true
   },
   "outputs": [
    {
     "name": "stdout",
     "output_type": "stream",
     "text": [
      "Counter({2: 161, 3: 67, 0: 37, 4: 32, 1: 20})\n"
     ]
    }
   ],
   "source": [
    "# get prelim stats on answers\n",
    "from collections import Counter\n",
    "print(Counter(len(o['solution']) for o in problems))"
   ]
  },
  {
   "cell_type": "code",
   "execution_count": 12,
   "metadata": {
    "collapsed": true,
    "deletable": true,
    "editable": true
   },
   "outputs": [],
   "source": [
    "json.dump(problems, open('./problems_with_answers.json', 'w'))"
   ]
  }
 ],
 "metadata": {
  "kernelspec": {
   "display_name": "Python 3",
   "language": "python",
   "name": "python3"
  },
  "language_info": {
   "codemirror_mode": {
    "name": "ipython",
    "version": 3
   },
   "file_extension": ".py",
   "mimetype": "text/x-python",
   "name": "python",
   "nbconvert_exporter": "python",
   "pygments_lexer": "ipython3",
   "version": "3.5.2"
  },
  "toc": {
   "nav_menu": {
    "height": "12px",
    "width": "252px"
   },
   "navigate_menu": true,
   "number_sections": true,
   "sideBar": true,
   "threshold": 4,
   "toc_cell": false,
   "toc_section_display": "block",
   "toc_window_display": false
  }
 },
 "nbformat": 4,
 "nbformat_minor": 2
}
