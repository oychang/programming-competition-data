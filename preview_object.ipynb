{
 "cells": [
  {
   "cell_type": "code",
   "execution_count": 1,
   "metadata": {
    "collapsed": true,
    "deletable": true,
    "editable": true
   },
   "outputs": [],
   "source": [
    "import json"
   ]
  },
  {
   "cell_type": "code",
   "execution_count": 2,
   "metadata": {
    "collapsed": true,
    "deletable": true,
    "editable": true
   },
   "outputs": [],
   "source": [
    "data = json.load(open('./problems_with_partial_answers.json'))"
   ]
  },
  {
   "cell_type": "code",
   "execution_count": 3,
   "metadata": {
    "collapsed": true,
    "deletable": true,
    "editable": true
   },
   "outputs": [],
   "source": [
    "from pprint import pprint"
   ]
  },
  {
   "cell_type": "code",
   "execution_count": 4,
   "metadata": {
    "collapsed": false,
    "deletable": true,
    "editable": true
   },
   "outputs": [
    {
     "name": "stdout",
     "output_type": "stream",
     "text": [
      "{'difficulty': '109.0\\n',\n",
      " 'examples': [{'input': 'squirrelPlay(70, false)', 'output': 'true'},\n",
      "              {'input': 'squirrelPlay(95, false)', 'output': 'false'},\n",
      "              {'input': 'squirrelPlay(95, true)', 'output': 'true'}],\n",
      " 'section': 'Logic-1',\n",
      " 'signature': 'public boolean squirrelPlay(int temp, boolean isSummer)',\n",
      " 'solution': ['if(isSummer)',\n",
      "              'return (temp >= 60 && temp <= 100);',\n",
      "              'return (temp >= 60 && temp <= 90);'],\n",
      " 'summary': 'The squirrels in Palo Alto spend most of the day playing. In '\n",
      "            'particular, they play if the temperature is between 60 and 90 '\n",
      "            '(inclusive). Unless it is summer, then the upper limit is 100 '\n",
      "            'instead of 90. Given an int temperature and a boolean isSummer, '\n",
      "            'return true if the squirrels play and false otherwise.',\n",
      " 'title': 'squirrelPlay',\n",
      " 'url': '/prob/p141061'}\n"
     ]
    }
   ],
   "source": [
    "for obj in data:\n",
    "    if 'solution' in obj:\n",
    "        pprint(obj)\n",
    "        break"
   ]
  },
  {
   "cell_type": "code",
   "execution_count": 5,
   "metadata": {
    "collapsed": true
   },
   "outputs": [],
   "source": [
    "from collections import Counter"
   ]
  },
  {
   "cell_type": "code",
   "execution_count": 6,
   "metadata": {
    "collapsed": true
   },
   "outputs": [],
   "source": [
    "from string import ascii_letters"
   ]
  },
  {
   "cell_type": "code",
   "execution_count": 7,
   "metadata": {
    "collapsed": false
   },
   "outputs": [],
   "source": [
    "counter = Counter(tok\n",
    "                  for obj in data if 'solution' in obj\n",
    "                  for tok in (' '.join(obj['solution'])).replace('(', ' ').replace(')', ' ').split(' ')\n",
    "                  if any(tok.startswith(l) for l in ascii_letters) and '.' in tok)"
   ]
  },
  {
   "cell_type": "code",
   "execution_count": 8,
   "metadata": {
    "collapsed": false
   },
   "outputs": [
    {
     "data": {
      "text/plain": [
       "[('str.charAt', 110),\n",
       " ('str.substring', 89),\n",
       " ('str.length', 78),\n",
       " ('stbuild.append', 40),\n",
       " ('nums.length', 38),\n",
       " ('nums.length;', 22),\n",
       " ('stbuild.toString', 20),\n",
       " ('str.indexOf', 13),\n",
       " ('a.length', 12),\n",
       " ('Math.abs', 12),\n",
       " ('b.length', 11),\n",
       " ('a.charAt', 4),\n",
       " ('nums[nums.length-1];', 4),\n",
       " ('b.charAt', 4),\n",
       " ('sub.length', 4),\n",
       " ('b.substring', 4),\n",
       " ('str.startsWith', 3),\n",
       " ('sum.', 3),\n",
       " ('string.substring', 3),\n",
       " ('nums.length-1;', 3)]"
      ]
     },
     "execution_count": 8,
     "metadata": {},
     "output_type": "execute_result"
    }
   ],
   "source": [
    "counter.most_common(20)"
   ]
  },
  {
   "cell_type": "code",
   "execution_count": 9,
   "metadata": {
    "collapsed": false
   },
   "outputs": [
    {
     "data": {
      "text/plain": [
       "[('length', 153),\n",
       " ('charAt', 122),\n",
       " ('substring', 100),\n",
       " ('append', 41),\n",
       " ('length;', 24),\n",
       " ('toString', 21),\n",
       " ('indexOf', 15),\n",
       " ('abs', 12),\n",
       " ('toLowerCase', 5),\n",
       " ('equals', 5),\n",
       " ('length-1];', 4),\n",
       " ('isDigit', 3),\n",
       " ('length-1;', 3),\n",
       " ('g', 3),\n",
       " ('length-1]', 3)]"
      ]
     },
     "execution_count": 9,
     "metadata": {},
     "output_type": "execute_result"
    }
   ],
   "source": [
    "Counter(tok.split('.')[1]\n",
    "        for tok, count in counter.items()\n",
    "        for _ in range(count)\n",
    "        if tok.split('.')[1]).most_common(15)"
   ]
  }
 ],
 "metadata": {
  "kernelspec": {
   "display_name": "Python 3",
   "language": "python",
   "name": "python3"
  },
  "language_info": {
   "codemirror_mode": {
    "name": "ipython",
    "version": 3
   },
   "file_extension": ".py",
   "mimetype": "text/x-python",
   "name": "python",
   "nbconvert_exporter": "python",
   "pygments_lexer": "ipython3",
   "version": "3.5.2"
  },
  "toc": {
   "nav_menu": {
    "height": "12px",
    "width": "252px"
   },
   "navigate_menu": true,
   "number_sections": true,
   "sideBar": true,
   "threshold": 4,
   "toc_cell": false,
   "toc_section_display": "block",
   "toc_window_display": false
  }
 },
 "nbformat": 4,
 "nbformat_minor": 2
}
