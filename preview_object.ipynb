{
 "cells": [
  {
   "cell_type": "code",
   "execution_count": 1,
   "metadata": {
    "collapsed": true,
    "deletable": true,
    "editable": true
   },
   "outputs": [],
   "source": [
    "import json"
   ]
  },
  {
   "cell_type": "code",
   "execution_count": 2,
   "metadata": {
    "collapsed": true,
    "deletable": true,
    "editable": true
   },
   "outputs": [],
   "source": [
    "data = json.load(open('./problems_with_partial_answers.json'))"
   ]
  },
  {
   "cell_type": "code",
   "execution_count": 3,
   "metadata": {
    "collapsed": true,
    "deletable": true,
    "editable": true
   },
   "outputs": [],
   "source": [
    "from pprint import pprint"
   ]
  },
  {
   "cell_type": "code",
   "execution_count": 4,
   "metadata": {
    "collapsed": false,
    "deletable": true,
    "editable": true
   },
   "outputs": [
    {
     "name": "stdout",
     "output_type": "stream",
     "text": [
      "{'difficulty': '109.0\\n',\n",
      " 'examples': [{'input': 'squirrelPlay(70, false)', 'output': 'true'},\n",
      "              {'input': 'squirrelPlay(95, false)', 'output': 'false'},\n",
      "              {'input': 'squirrelPlay(95, true)', 'output': 'true'}],\n",
      " 'section': 'Logic-1',\n",
      " 'signature': 'public boolean squirrelPlay(int temp, boolean isSummer)',\n",
      " 'solution': ['if(isSummer)',\n",
      "              'return (temp >= 60 && temp <= 100);',\n",
      "              'return (temp >= 60 && temp <= 90);'],\n",
      " 'summary': 'The squirrels in Palo Alto spend most of the day playing. In '\n",
      "            'particular, they play if the temperature is between 60 and 90 '\n",
      "            '(inclusive). Unless it is summer, then the upper limit is 100 '\n",
      "            'instead of 90. Given an int temperature and a boolean isSummer, '\n",
      "            'return true if the squirrels play and false otherwise.',\n",
      " 'title': 'squirrelPlay',\n",
      " 'url': '/prob/p141061'}\n"
     ]
    }
   ],
   "source": [
    "for obj in data:\n",
    "    if 'solution' in obj:\n",
    "        pprint(obj)\n",
    "        break"
   ]
  }
 ],
 "metadata": {
  "kernelspec": {
   "display_name": "Python 3",
   "language": "python",
   "name": "python3"
  },
  "language_info": {
   "codemirror_mode": {
    "name": "ipython",
    "version": 3
   },
   "file_extension": ".py",
   "mimetype": "text/x-python",
   "name": "python",
   "nbconvert_exporter": "python",
   "pygments_lexer": "ipython3",
   "version": "3.5.2"
  },
  "toc": {
   "nav_menu": {
    "height": "12px",
    "width": "252px"
   },
   "navigate_menu": true,
   "number_sections": true,
   "sideBar": true,
   "threshold": 4,
   "toc_cell": false,
   "toc_section_display": "block",
   "toc_window_display": false
  }
 },
 "nbformat": 4,
 "nbformat_minor": 2
}
